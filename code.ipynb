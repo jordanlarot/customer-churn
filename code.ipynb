{
 "cells": [
  {
   "cell_type": "code",
   "execution_count": 59,
   "id": "73891208",
   "metadata": {},
   "outputs": [],
   "source": [
    "# Import pandas, numpy, and matplotlib\n",
    "import pandas as pd\n",
    "import numpy as np\n",
    "import matplotlib.pyplot as plt"
   ]
  },
  {
   "cell_type": "code",
   "execution_count": 60,
   "id": "5185649a",
   "metadata": {},
   "outputs": [],
   "source": [
    "def plot_confusion_matrix(cm,\n",
    "                          target_names,\n",
    "                          title='Confusion matrix',\n",
    "                          cmap=None,\n",
    "                          normalize=True):\n",
    "    \"\"\"\n",
    "    given a sklearn confusion matrix (cm), make a nice plot\n",
    "\n",
    "    Arguments\n",
    "    ---------\n",
    "    cm:           confusion matrix from sklearn.metrics.confusion_matrix\n",
    "\n",
    "    target_names: given classification classes such as [0, 1, 2]\n",
    "                  the class names, for example: ['high', 'medium', 'low']\n",
    "\n",
    "    title:        the text to display at the top of the matrix\n",
    "\n",
    "    cmap:         the gradient of the values displayed from matplotlib.pyplot.cm\n",
    "                  see http://matplotlib.org/examples/color/colormaps_reference.html\n",
    "                  plt.get_cmap('jet') or plt.cm.Blues\n",
    "\n",
    "    normalize:    If False, plot the raw numbers\n",
    "                  If True, plot the proportions\n",
    "\n",
    "    Usage\n",
    "    -----\n",
    "    plot_confusion_matrix(cm           = cm,                  # confusion matrix created by\n",
    "                                                              # sklearn.metrics.confusion_matrix\n",
    "                          normalize    = True,                # show proportions\n",
    "                          target_names = y_labels_vals,       # list of names of the classes\n",
    "                          title        = best_estimator_name) # title of graph\n",
    "\n",
    "    Citiation\n",
    "    ---------\n",
    "    http://scikit-learn.org/stable/auto_examples/model_selection/plot_confusion_matrix.html\n",
    "\n",
    "    \"\"\"\n",
    "    import matplotlib.pyplot as plt\n",
    "    import numpy as np\n",
    "    import itertools\n",
    "\n",
    "    accuracy = np.trace(cm) / np.sum(cm).astype('float')\n",
    "    misclass = 1 - accuracy\n",
    "\n",
    "    if cmap is None:\n",
    "        cmap = plt.get_cmap('Blues')\n",
    "\n",
    "    plt.figure(figsize=(8, 6))\n",
    "    plt.imshow(cm, interpolation='nearest', cmap=cmap)\n",
    "    plt.title(title)\n",
    "    plt.colorbar()\n",
    "\n",
    "    if target_names is not None:\n",
    "        tick_marks = np.arange(len(target_names))\n",
    "        plt.xticks(tick_marks, target_names, rotation=45)\n",
    "        plt.yticks(tick_marks, target_names)\n",
    "\n",
    "    if normalize:\n",
    "        cm = cm.astype('float') / cm.sum(axis=1)[:, np.newaxis]\n",
    "\n",
    "\n",
    "    thresh = cm.max() / 1.5 if normalize else cm.max() / 2\n",
    "    for i, j in itertools.product(range(cm.shape[0]), range(cm.shape[1])):\n",
    "        if normalize:\n",
    "            plt.text(j, i, \"{:0.4f}\".format(cm[i, j]),\n",
    "                     horizontalalignment=\"center\",\n",
    "                     color=\"white\" if cm[i, j] > thresh else \"black\")\n",
    "        else:\n",
    "            plt.text(j, i, \"{:,}\".format(cm[i, j]),\n",
    "                     horizontalalignment=\"center\",\n",
    "                     color=\"white\" if cm[i, j] > thresh else \"black\")\n",
    "\n",
    "\n",
    "    plt.tight_layout()\n",
    "    plt.ylabel('True label')\n",
    "    plt.xlabel('Predicted label\\naccuracy={:0.4f}; misclass={:0.4f}'.format(accuracy, misclass))\n",
    "    plt.show()"
   ]
  },
  {
   "cell_type": "code",
   "execution_count": 90,
   "id": "ff4d8575",
   "metadata": {},
   "outputs": [
    {
     "data": {
      "text/plain": [
       "0    1195\n",
       "1     233\n",
       "Name: Churn, dtype: int64"
      ]
     },
     "execution_count": 90,
     "metadata": {},
     "output_type": "execute_result"
    }
   ],
   "source": [
    "# Import dataset\n",
    "data = 'churn.csv'\n",
    "df = pd.read_csv(data)"
   ]
  },
  {
   "cell_type": "code",
   "execution_count": 62,
   "id": "2a81e5af",
   "metadata": {},
   "outputs": [
    {
     "data": {
      "text/plain": [
       "Call Failure               False\n",
       "Complains                  False\n",
       "Subscription Length        False\n",
       "Charge Amount              False\n",
       "Seconds of Use             False\n",
       "Frequency of use           False\n",
       "Frequency of SMS           False\n",
       "Distinct Called Numbers    False\n",
       "Age Group                  False\n",
       "Tariff Plan                False\n",
       "Status                     False\n",
       "Age                        False\n",
       "Customer Value             False\n",
       "Churn                      False\n",
       "dtype: bool"
      ]
     },
     "execution_count": 62,
     "metadata": {},
     "output_type": "execute_result"
    }
   ],
   "source": [
    "# Check for missing values\n",
    "df.isna().any()"
   ]
  },
  {
   "cell_type": "code",
   "execution_count": 63,
   "id": "07300eb9",
   "metadata": {},
   "outputs": [
    {
     "data": {
      "text/plain": [
       "Call Failure                 int64\n",
       "Complains                    int64\n",
       "Subscription Length          int64\n",
       "Charge Amount                int64\n",
       "Seconds of Use               int64\n",
       "Frequency of use             int64\n",
       "Frequency of SMS             int64\n",
       "Distinct Called Numbers      int64\n",
       "Age Group                    int64\n",
       "Tariff Plan                  int64\n",
       "Status                       int64\n",
       "Age                          int64\n",
       "Customer Value             float64\n",
       "Churn                        int64\n",
       "dtype: object"
      ]
     },
     "execution_count": 63,
     "metadata": {},
     "output_type": "execute_result"
    }
   ],
   "source": [
    "# Check data types\n",
    "df.dtypes"
   ]
  },
  {
   "cell_type": "code",
   "execution_count": 64,
   "id": "2ac08847",
   "metadata": {},
   "outputs": [],
   "source": [
    "# Convert columns to categorical\n",
    "cat_col = ['Complains', 'Charge Amount', 'Age Group', 'Tariff Plan', 'Status', 'Churn']\n",
    "\n",
    "for i in cat_col:\n",
    "    df[i] = df[i].astype('category').sort_values()"
   ]
  },
  {
   "cell_type": "code",
   "execution_count": 65,
   "id": "d7ec1cb6",
   "metadata": {},
   "outputs": [
    {
     "data": {
      "text/plain": [
       "Call Failure                  int64\n",
       "Complains                  category\n",
       "Subscription Length           int64\n",
       "Charge Amount              category\n",
       "Seconds of Use                int64\n",
       "Frequency of use              int64\n",
       "Frequency of SMS              int64\n",
       "Distinct Called Numbers       int64\n",
       "Age Group                  category\n",
       "Tariff Plan                category\n",
       "Status                     category\n",
       "Age                           int64\n",
       "Customer Value              float64\n",
       "Churn                      category\n",
       "dtype: object"
      ]
     },
     "execution_count": 65,
     "metadata": {},
     "output_type": "execute_result"
    }
   ],
   "source": [
    "# Verify columns\n",
    "df.dtypes"
   ]
  },
  {
   "cell_type": "code",
   "execution_count": 66,
   "id": "7b6bde97",
   "metadata": {},
   "outputs": [
    {
     "data": {
      "image/png": "[encoded data removed]",
      "text/plain": [
       "<Figure size 1440x1080 with 9 Axes>"
      ]
     },
     "metadata": {
      "needs_background": "light"
     },
     "output_type": "display_data"
    }
   ],
   "source": [
    "# Check distribution of columns\n",
    "df.hist(bins=10, figsize=(20,15))\n",
    "plt.show()"
   ]
  },
  {
   "cell_type": "code",
   "execution_count": 67,
   "id": "c85792c4",
   "metadata": {},
   "outputs": [],
   "source": [
    "# Import train_test_split from sklearn\n",
    "from sklearn.model_selection import train_test_split\n",
    "\n",
    "# Create X and y\n",
    "#X = df.drop('Churn', axis=1).values.reshape(-1, 1)\n",
    "#y = df['Churn'].values.reshape(-1, 1)\n",
    "\n",
    "# Split data into training and test set\n",
    "#X_train, X_test, y_train, y_test = train_test_split(X, y, test_size=0.25, random_state=42)#, stratify=y)\n",
    "train_set, test_set = train_test_split(df, test_size=0.25, random_state=42)#, stratify=y)\n",
    "\n",
    "# Making copy of training set\n",
    "df = train_set.drop('Churn', axis=1)\n",
    "df_labels = train_set['Churn'].copy()"
   ]
  },
  {
   "cell_type": "code",
   "execution_count": 68,
   "id": "a09007e2",
   "metadata": {},
   "outputs": [
    {
     "data": {
      "text/plain": [
       "Index(['Call Failure', 'Complains', 'Subscription Length', 'Charge Amount',\n",
       "       'Seconds of Use', 'Frequency of use', 'Frequency of SMS',\n",
       "       'Distinct Called Numbers', 'Age Group', 'Tariff Plan', 'Status', 'Age',\n",
       "       'Customer Value'],\n",
       "      dtype='object')"
      ]
     },
     "execution_count": 68,
     "metadata": {},
     "output_type": "execute_result"
    }
   ],
   "source": [
    "df.columns"
   ]
  },
  {
   "cell_type": "code",
   "execution_count": 69,
   "id": "5dd4489d",
   "metadata": {},
   "outputs": [],
   "source": [
    "# Create df_num and df_cat\n",
    "#ord_col = ['Charge Amount', 'Age Group']\n",
    "cat_col = ['Complains', 'Charge Amount', 'Age Group','Tariff Plan', 'Status']\n",
    "\n",
    "df_num = df.drop(cat_col, axis=1)\n",
    "\n",
    "#df_ord = df[ord_col]\n",
    "df_cat = df[cat_col]"
   ]
  },
  {
   "cell_type": "code",
   "execution_count": 70,
   "id": "a1aa27aa",
   "metadata": {},
   "outputs": [],
   "source": [
    "from sklearn.preprocessing import OneHotEncoder\n",
    "from sklearn.preprocessing import StandardScaler\n",
    "from sklearn.pipeline import Pipeline\n",
    "from sklearn.compose import ColumnTransformer\n",
    "\n",
    "num_pipeline = Pipeline([\n",
    "                ('std_scaler', StandardScaler())\n",
    "                        ])\n",
    "\n",
    "num_attribs = list(df_num)\n",
    "cat_attribs = list(df_cat)\n",
    "\n",
    "full_pipeline = ColumnTransformer([\n",
    "                ('num', num_pipeline, num_attribs),\n",
    "                ('cat', OneHotEncoder(), cat_attribs),\n",
    "                                    ])\n",
    "\n",
    "df_prepared = full_pipeline.fit_transform(df)"
   ]
  },
  {
   "cell_type": "code",
   "execution_count": 71,
   "id": "2baa032f",
   "metadata": {},
   "outputs": [],
   "source": [
    "# Import DecisionTreeClassifier and accuracy_score\n",
    "from sklearn.tree import DecisionTreeClassifier\n",
    "from sklearn.metrics import classification_report, confusion_matrix\n",
    "\n",
    "# Instantiate DecisionTreeClassifier object: dt\n",
    "dt = DecisionTreeClassifier()\n",
    "\n",
    "# Fit data\n",
    "dt.fit(df_prepared, df_labels)\n",
    "\n",
    "# Predict training set\n",
    "churn_predictions = dt.predict(df_prepared)"
   ]
  },
  {
   "cell_type": "code",
   "execution_count": 105,
   "id": "0476615b",
   "metadata": {},
   "outputs": [
    {
     "data": {
      "text/plain": [
       "8"
      ]
     },
     "execution_count": 105,
     "metadata": {},
     "output_type": "execute_result"
    }
   ],
   "source": [
    "# Create confusion matrix\n",
    "churn_cm = confusion_matrix(df_labels, churn_predictions)\n",
    "\n",
    "# Plotting confusion matrix\n",
    "plot_confusion_matrix(churn_cm, ['Did Not Churn', 'Did Churn'])"
   ]
  },
  {
   "cell_type": "code",
   "execution_count": 73,
   "id": "3c92b4f2",
   "metadata": {},
   "outputs": [
    {
     "name": "stdout",
     "output_type": "stream",
     "text": [
      "              precision    recall  f1-score   support\n",
      "\n",
      "           0       0.99      1.00      1.00       908\n",
      "           1       0.98      0.97      0.98       163\n",
      "\n",
      "    accuracy                           0.99      1071\n",
      "   macro avg       0.99      0.98      0.99      1071\n",
      "weighted avg       0.99      0.99      0.99      1071\n",
      "\n"
     ]
    }
   ],
   "source": [
    "# Compute resulting metrics\n",
    "print(classification_report(df_labels, churn_predictions))"
   ]
  },
  {
   "cell_type": "code",
   "execution_count": 74,
   "id": "ca409e7d",
   "metadata": {},
   "outputs": [
    {
     "name": "stdout",
     "output_type": "stream",
     "text": [
      "The best parameters: {'criterion': 'gini', 'max_depth': 6, 'max_features': 6, 'min_samples_leaf': 7}\n",
      "The score is 0.9577142587804351\n"
     ]
    }
   ],
   "source": [
    "# Import GridSearchCV\n",
    "from sklearn.model_selection import GridSearchCV\n",
    "\n",
    "# Set seed\n",
    "SEED = 42\n",
    "\n",
    "# Create parameter grid\n",
    "param_grid = {\n",
    "                'max_depth':np.arange(1,20),\n",
    "                'min_samples_leaf':np.arange(1,10),\n",
    "                'max_features':np.arange(1,7),\n",
    "                \"criterion\": [\"gini\", \"entropy\"]\n",
    "             }\n",
    "\n",
    "# Create dt object\n",
    "dt = DecisionTreeClassifier(random_state=SEED)\n",
    "\n",
    "# Perform GridSearchCV\n",
    "dt_cv = GridSearchCV(dt, param_grid, cv=10, n_jobs=-1, scoring='roc_auc')\n",
    "\n",
    "# Fit data\n",
    "dt_cv.fit(df_prepared, df_labels)\n",
    "\n",
    "# Best Parameters and CV score\n",
    "print(f'The best parameters: {dt_cv.best_params_}')\n",
    "print(f'The score is {dt_cv.best_score_}')"
   ]
  },
  {
   "cell_type": "code",
   "execution_count": 75,
   "id": "0466c5e0",
   "metadata": {},
   "outputs": [
    {
     "data": {
      "image/png": "[encoded data removed]",
      "text/plain": [
       "<Figure size 576x432 with 2 Axes>"
      ]
     },
     "metadata": {
      "needs_background": "light"
     },
     "output_type": "display_data"
    },
    {
     "name": "stdout",
     "output_type": "stream",
     "text": [
      "              precision    recall  f1-score   support\n",
      "\n",
      "           0       0.91      0.98      0.94       908\n",
      "           1       0.80      0.45      0.58       163\n",
      "\n",
      "    accuracy                           0.90      1071\n",
      "   macro avg       0.85      0.72      0.76      1071\n",
      "weighted avg       0.89      0.90      0.89      1071\n",
      "\n"
     ]
    }
   ],
   "source": [
    "# Logistic Regression\n",
    "from sklearn.linear_model import LogisticRegression\n",
    "\n",
    "# Instantiate LogisticRegression object: logreg\n",
    "logreg = LogisticRegression()\n",
    "\n",
    "logreg.fit(df_prepared, df_labels)\n",
    "churn_predictions = logreg.predict(df_prepared)\n",
    "\n",
    "# Create confusion matrix\n",
    "churn_cm = confusion_matrix(df_labels, churn_predictions)\n",
    "\n",
    "# Plotting confusion matrix\n",
    "plot_confusion_matrix(churn_cm, ['Did Not Churn', 'Did Churn'])\n",
    "\n",
    "# Compute resulting metrics\n",
    "print(classification_report(df_labels, churn_predictions))"
   ]
  },
  {
   "cell_type": "code",
   "execution_count": 76,
   "id": "6a4d9e33",
   "metadata": {},
   "outputs": [
    {
     "data": {
      "image/png": "[encoded data removed]",
      "text/plain": [
       "<Figure size 576x432 with 2 Axes>"
      ]
     },
     "metadata": {
      "needs_background": "light"
     },
     "output_type": "display_data"
    },
    {
     "name": "stdout",
     "output_type": "stream",
     "text": [
      "              precision    recall  f1-score   support\n",
      "\n",
      "           0       0.91      0.99      0.95       908\n",
      "           1       0.93      0.48      0.64       163\n",
      "\n",
      "    accuracy                           0.92      1071\n",
      "   macro avg       0.92      0.74      0.79      1071\n",
      "weighted avg       0.92      0.92      0.90      1071\n",
      "\n"
     ]
    }
   ],
   "source": [
    "# SVM\n",
    "from sklearn.svm import SVC\n",
    "\n",
    "# Instantiate SVC object: svc\n",
    "svc = SVC()\n",
    "\n",
    "# Fit data\n",
    "svc.fit(df_prepared, df_labels)\n",
    "\n",
    "# Predict labels\n",
    "churn_predictions = svc.predict(df_prepared)\n",
    "\n",
    "# Create confusion matrix\n",
    "churn_cm = confusion_matrix(df_labels, churn_predictions)\n",
    "\n",
    "# Plotting confusion matrix\n",
    "plot_confusion_matrix(churn_cm, ['Did Not Churn', 'Did Churn'])\n",
    "\n",
    "# Compute resulting metrics\n",
    "print(classification_report(df_labels, churn_predictions))"
   ]
  },
  {
   "cell_type": "code",
   "execution_count": 77,
   "id": "66177a94",
   "metadata": {},
   "outputs": [
    {
     "data": {
      "image/png": "[encoded data removed]",
      "text/plain": [
       "<Figure size 576x432 with 2 Axes>"
      ]
     },
     "metadata": {
      "needs_background": "light"
     },
     "output_type": "display_data"
    },
    {
     "name": "stdout",
     "output_type": "stream",
     "text": [
      "              precision    recall  f1-score   support\n",
      "\n",
      "           0       0.96      0.98      0.97       908\n",
      "           1       0.88      0.79      0.83       163\n",
      "\n",
      "    accuracy                           0.95      1071\n",
      "   macro avg       0.92      0.89      0.90      1071\n",
      "weighted avg       0.95      0.95      0.95      1071\n",
      "\n"
     ]
    }
   ],
   "source": [
    "# KNN \n",
    "from sklearn.neighbors import KNeighborsClassifier\n",
    "\n",
    "# Instantiate KNN object: knn\n",
    "knn = KNeighborsClassifier(n_neighbors=7)\n",
    "\n",
    "# Fit data\n",
    "knn.fit(df_prepared, df_labels)\n",
    "\n",
    "# Predict \n",
    "churn_predictions = knn.predict(df_prepared)\n",
    "\n",
    "# Create confusion matrix\n",
    "churn_cm = confusion_matrix(df_labels, churn_predictions)\n",
    "\n",
    "# Plotting confusion matrix\n",
    "plot_confusion_matrix(churn_cm, ['Did Not Churn', 'Did Churn'])\n",
    "\n",
    "# Compute resulting metrics\n",
    "print(classification_report(df_labels, churn_predictions))"
   ]
  },
  {
   "cell_type": "code",
   "execution_count": 78,
   "id": "74939179",
   "metadata": {},
   "outputs": [
    {
     "data": {
      "image/png": "[encoded data removed]",
      "text/plain": [
       "<Figure size 576x432 with 2 Axes>"
      ]
     },
     "metadata": {
      "needs_background": "light"
     },
     "output_type": "display_data"
    },
    {
     "name": "stdout",
     "output_type": "stream",
     "text": [
      "              precision    recall  f1-score   support\n",
      "\n",
      "           0       1.00      0.99      1.00       908\n",
      "           1       0.96      0.99      0.98       163\n",
      "\n",
      "    accuracy                           0.99      1071\n",
      "   macro avg       0.98      0.99      0.99      1071\n",
      "weighted avg       0.99      0.99      0.99      1071\n",
      "\n"
     ]
    }
   ],
   "source": [
    "# RandomForestClassifier\n",
    "from sklearn.ensemble import RandomForestClassifier\n",
    "\n",
    "rf = RandomForestClassifier(n_estimators=400)\n",
    "\n",
    "rf.fit(df_prepared, df_labels)\n",
    "\n",
    "churn_predictions = rf.predict(df_prepared)\n",
    "\n",
    "# Create confusion matrix\n",
    "churn_cm = confusion_matrix(df_labels, churn_predictions)\n",
    "\n",
    "# Plotting confusion matrix\n",
    "plot_confusion_matrix(churn_cm, ['Did Not Churn', 'Did Churn'])\n",
    "\n",
    "# Compute resulting metrics\n",
    "print(classification_report(df_labels, churn_predictions))"
   ]
  },
  {
   "cell_type": "code",
   "execution_count": 79,
   "id": "d672b491",
   "metadata": {},
   "outputs": [
    {
     "name": "stdout",
     "output_type": "stream",
     "text": [
      "The best parameters: {'criterion': 'gini', 'max_depth': 6, 'max_features': 6, 'min_samples_leaf': 7}\n",
      "The score is 0.9577142587804351\n"
     ]
    }
   ],
   "source": [
    "### Copy of model\n",
    "\n",
    "# Set seed\n",
    "SEED = 42\n",
    "\n",
    "# Create parameter grid\n",
    "param_grid = {\n",
    "                'max_depth':np.arange(1,20),\n",
    "                'min_samples_leaf':np.arange(1,10),\n",
    "                'max_features':np.arange(1,7),\n",
    "                \"criterion\": [\"gini\", \"entropy\"]\n",
    "             }\n",
    "\n",
    "# Create dt object\n",
    "dt = DecisionTreeClassifier(random_state=SEED)\n",
    "\n",
    "# Perform GridSearchCV\n",
    "dt_cv = GridSearchCV(dt, param_grid, cv=10, n_jobs=-1, scoring='roc_auc')\n",
    "\n",
    "# Fit data\n",
    "dt_cv.fit(df_prepared, df_labels)\n",
    "\n",
    "# Best Parameters and CV score\n",
    "print(f'The best parameters: {dt_cv.best_params_}')\n",
    "print(f'The score is {dt_cv.best_score_}')\n",
    "\n",
    "\n",
    "#dt_cv.best_estimator_.feature_importances_\n",
    "\n",
    "### The best parameters: {'criterion': 'gini', 'max_depth': 6, 'max_features': 6, 'min_samples_leaf': 7}\n",
    "### The score is 0.9577142587804351"
   ]
  },
  {
   "cell_type": "code",
   "execution_count": 80,
   "id": "c397bd93",
   "metadata": {},
   "outputs": [],
   "source": [
    "# RandomForestClassifier GridSearchCV\n",
    "from sklearn.ensemble import RandomForestClassifier\n",
    "from sklearn.model_selection import cross_val_score\n",
    "\n",
    "\n",
    "\n",
    "# Set seed\n",
    "#SEED = 42\n",
    "\n",
    "#rf = RandomForestClassifier(random_state=SEED)\n",
    "\n",
    "#params_rf = {\n",
    "  #              'max_depth': np.arange(1,25),\n",
    "  #             'max_features': np.arange(1,25),\n",
    "  #              'n_estimators': np.arange(1,25),\n",
    "  #              'criterion': ['gini', 'entropy']\n",
    "  #          }\n",
    "\n",
    "#grid_rf = GridSearchCV(rf, params_rf, scoring='roc_auc', cv=10, n_jobs=-1, verbose=1)\n",
    "\n",
    "# Fit data\n",
    "#grid_rf.fit(df_prepared, df_labels)\n",
    "#cv_results = cross_val_score(rf, df_prepared, df_labels, scoring='roc_auc')\n",
    "\n",
    "#np.mean(cv_results)\n",
    "\n",
    "#print(f'The best parameters: {grid_rf.best_params_}')\n",
    "#print(f'The score is {grid_rf.best_score_}')\n",
    "\n",
    "### Best Parameters are {'criterion': 'entropy', 'max_depth': 14, 'max_features': 3, 'n_estimators': 22}\n",
    "### roc_auc score = 0.98"
   ]
  },
  {
   "cell_type": "code",
   "execution_count": 85,
   "id": "1990c679",
   "metadata": {},
   "outputs": [
    {
     "name": "stdout",
     "output_type": "stream",
     "text": [
      "roc_auc_score: 0.983\n",
      "accuracy_score: 0.993\n",
      "f1_score: 0.975\n",
      "recall_score: 0.969\n",
      "precision_score: 0.981\n"
     ]
    }
   ],
   "source": [
    "### Ensemble \n",
    "from sklearn.ensemble import VotingClassifier\n",
    "from sklearn.metrics import roc_auc_score, accuracy_score, f1_score, recall_score, precision_score\n",
    "\n",
    "                \n",
    "# Instantiate rf and dt objects with best parameters\n",
    "rf = RandomForestClassifier() #criterion='entropy', max_depth=14, max_features=3, n_estimators=22, random_state=42)\n",
    "dt = DecisionTreeClassifier() #criterion='gini', max_depth=6, max_features=6, min_samples_leaf=7, random_state=42)\n",
    "\n",
    "# List of classifiers\n",
    "classifiers = [\n",
    "                ('Decision Tree Classification', dt),\n",
    "                ('Random Forest Classification', rf),\n",
    "                ]\n",
    "# Create VotingClassifier object\n",
    "vc = VotingClassifier(estimators=classifiers)\n",
    "\n",
    "# Fit 'vc'\n",
    "vc.fit(df_prepared, df_labels)\n",
    "\n",
    "# Predictions\n",
    "churn_predictions = vc.predict(df_prepared)\n",
    "\n",
    "# Score\n",
    "clf_metrics = [\n",
    "               ('roc_auc_score', roc_auc_score), \n",
    "               ('accuracy_score', accuracy_score), \n",
    "               ('f1_score', f1_score), \n",
    "               ('recall_score', recall_score),\n",
    "               ('precision_score', precision_score)\n",
    "              ]\n",
    "\n",
    "for name, metric in clf_metrics:\n",
    "    print(f'{name}: {round(metric(df_labels, churn_predictions), 3)}')\n",
    "    \n",
    "### roc_auc_score: 0.983\n",
    "### accuracy_score: 0.993\n",
    "### f1_score: 0.975\n",
    "### recall_score: 0.969\n",
    "### precision_score: 0.981"
   ]
  },
  {
   "cell_type": "code",
   "execution_count": 86,
   "id": "52f61e84",
   "metadata": {},
   "outputs": [
    {
     "name": "stdout",
     "output_type": "stream",
     "text": [
      "roc_auc_score: 0.987\n",
      "accuracy_score: 0.992\n",
      "f1_score: 0.973\n",
      "recall_score: 0.982\n",
      "precision_score: 0.964\n"
     ]
    }
   ],
   "source": [
    "### best rf model\n",
    "rf = RandomForestClassifier(criterion='entropy', max_depth=14, max_features=3, n_estimators=22, random_state=42)\n",
    "\n",
    "# Fit\n",
    "rf.fit(df_prepared, df_labels)\n",
    "\n",
    "# Predict\n",
    "rf_predictions = rf.predict(df_prepared)\n",
    "\n",
    "for name, metric in clf_metrics:\n",
    "    print(f'{name}: {round(metric(df_labels, rf_predictions), 3)}')"
   ]
  },
  {
   "cell_type": "code",
   "execution_count": 87,
   "id": "10a06c48",
   "metadata": {},
   "outputs": [
    {
     "name": "stdout",
     "output_type": "stream",
     "text": [
      "roc_auc_score: 0.987\n",
      "accuracy_score: 0.992\n",
      "f1_score: 0.973\n",
      "recall_score: 0.982\n",
      "precision_score: 0.964\n"
     ]
    }
   ],
   "source": [
    "### best dt model\n",
    "dt = DecisionTreeClassifier(criterion='gini', max_depth=6, max_features=6, min_samples_leaf=7, random_state=42)\n",
    "\n",
    "# Fit\n",
    "dt.fit(df_prepared, df_labels)\n",
    "\n",
    "# Predict\n",
    "dt_predictions = rf.predict(df_prepared)\n",
    "\n",
    "for name, metric in clf_metrics:\n",
    "    print(f'{name}: {round(metric(df_labels, dt_predictions), 3)}')"
   ]
  },
  {
   "cell_type": "code",
   "execution_count": 88,
   "id": "4159c53e",
   "metadata": {},
   "outputs": [
    {
     "name": "stdout",
     "output_type": "stream",
     "text": [
      "roc_auc_score: 0.99286\n",
      "accuracy_score: 0.9972\n",
      "f1_score: 0.99281\n",
      "recall_score: 0.98571\n",
      "precision_score: 1.0\n"
     ]
    }
   ],
   "source": [
    "### Evaluate on test set\n",
    "\n",
    "# Choose best model: rf\n",
    "final_model = RandomForestClassifier(criterion='entropy', max_depth=14, max_features=3, n_estimators=22, random_state=42)\n",
    "\n",
    "# Get X_test and y_test\n",
    "X_test = test_set.drop('Churn', axis=1)\n",
    "y_test = test_set['Churn'].copy()\n",
    "\n",
    "# Use full_pipeline to transform X_test\n",
    "X_test_prepared = full_pipeline.transform(X_test)\n",
    "\n",
    "# Final predictions\n",
    "final_model.fit(X_test_prepared, y_test)\n",
    "final_predictions = final_model.predict(X_test_prepared)\n",
    "\n",
    "# Calculate \n",
    "for name, metric in clf_metrics:\n",
    "   print(f'{name}: {round(metric(y_test, final_predictions), 5)}')\n",
    "\n",
    "# rf performance\n",
    "roc_auc_score: 0.99286\n",
    "accuracy_score: 0.9972\n",
    "f1_score: 0.99281\n",
    "recall_score: 0.98571\n",
    "precision_score: 1.0"
   ]
  },
  {
   "cell_type": "code",
   "execution_count": 89,
   "id": "31c8e1c4",
   "metadata": {},
   "outputs": [],
   "source": [
    "### Other model's performances on test set\n",
    "\n",
    "# vc\n",
    "roc_auc_score: 0.845\n",
    "accuracy_score: 0.924\n",
    "f1_score: 0.787\n",
    "recall_score: 0.714\n",
    "precision_score: 0.877\n",
    "\n",
    "# dt\n",
    "roc_auc_score: 0.80226\n",
    "accuracy_score: 0.89916\n",
    "f1_score: 0.71429\n",
    "recall_score: 0.64286\n",
    "precision_score: 0.80357"
   ]
  },
  {
   "cell_type": "code",
   "execution_count": 109,
   "id": "cf02f8d1",
   "metadata": {},
   "outputs": [
    {
     "data": {
      "text/plain": [
       "0.008283621784106862"
      ]
     },
     "execution_count": 109,
     "metadata": {},
     "output_type": "execute_result"
    }
   ],
   "source": [
    "### Calculating confidence interval for rf\n",
    "from scipy import stats\n",
    "confidence = 0.95\n",
    "\n",
    "# Choose best model: rf\n",
    "final_model = RandomForestClassifier(criterion='entropy', max_depth=14, max_features=3, n_estimators=22, random_state=42)\n",
    "\n",
    "# Get X_test and y_test\n",
    "X_test = test_set.drop('Churn', axis=1)\n",
    "y_test = test_set['Churn'].copy()\n",
    "\n",
    "# Use full_pipeline to transform X_test\n",
    "X_test_prepared = full_pipeline.transform(X_test)\n",
    "\n",
    "# Final predictions\n",
    "final_model.fit(X_test_prepared, y_test)\n",
    "final_predictions = final_model.predict(X_test_prepared)\n",
    "\n",
    "final_cm = confusion_matrix(y_test, final_predictions)\n",
    "\n",
    "clf_error = (final_cm[0,1] + final_cm[1,0]) / len(y_test)\n",
    "\n",
    "clf_error + 1.96 * np.sqrt((clf_error * (1 - clf_error)) / len(y_test))"
   ]
  },
  {
   "cell_type": "code",
   "execution_count": null,
   "id": "b0464a3f",
   "metadata": {},
   "outputs": [],
   "source": [
    "### calculate confidence interval\n",
    "# We create a database, and we bootstrap samples from the data and save it in the database, then spews out predictions\n",
    "# create a website that interact and manually input data\n",
    "# Bootstrap \n",
    "# Deploying \n",
    "# maybe do visualizations"
   ]
  },
  {
   "cell_type": "code",
   "execution_count": 119,
   "id": "c2c57bc2",
   "metadata": {},
   "outputs": [
    {
     "data": {
      "text/plain": [
       "0.05322128851540616"
      ]
     },
     "execution_count": 119,
     "metadata": {},
     "output_type": "execute_result"
    }
   ],
   "source": [
    "# Try cross_val_predict\n",
    "# from sklearn.model_selection import cross_val_predict, cross_validate\n",
    "# rf = RandomForestClassifier(criterion='entropy', max_depth=14, max_features=3, n_estimators=22, random_state=42)\n",
    "\n",
    "# df_pred = cross_val_predict(rf, df_prepared, df_labels)\n",
    "\n",
    "# rf_cm = confusion_matrix(df_labels, df_pred)\n",
    "\n",
    "# (rf_cm[0,1] + rf_cm[1,0]) / len(df_labels)"
   ]
  },
  {
   "cell_type": "code",
   "execution_count": null,
   "id": "b6226a73",
   "metadata": {},
   "outputs": [],
   "source": []
  },
  {
   "cell_type": "code",
   "execution_count": null,
   "id": "ebd8e0ad",
   "metadata": {},
   "outputs": [],
   "source": []
  }
 ],
 "metadata": {
  "kernelspec": {
   "display_name": "Python 3 (ipykernel)",
   "language": "python",
   "name": "python3"
  },
  "language_info": {
   "codemirror_mode": {
    "name": "ipython",
    "version": 3
   },
   "file_extension": ".py",
   "mimetype": "text/x-python",
   "name": "python",
   "nbconvert_exporter": "python",
   "pygments_lexer": "ipython3",
   "version": "3.8.13"
  }
 },
 "nbformat": 4,
 "nbformat_minor": 5
}
