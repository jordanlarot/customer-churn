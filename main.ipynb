{
 "cells": [
  {
   "cell_type": "markdown",
   "id": "6b6d4d63",
   "metadata": {},
   "source": [
    "### Import modules and functions"
   ]
  },
  {
   "cell_type": "code",
   "execution_count": 1,
   "id": "73891208",
   "metadata": {},
   "outputs": [],
   "source": [
    "# Import pandas, numpy, and matplotlib\n",
    "import pandas as pd\n",
    "import numpy as np\n",
    "import matplotlib.pyplot as plt"
   ]
  },
  {
   "cell_type": "code",
   "execution_count": 2,
   "id": "d3cf4301",
   "metadata": {},
   "outputs": [],
   "source": [
    "# Import plot_confusion_matrix from funcs.py\n",
    "from funcs import plot_confusion_matrix"
   ]
  },
  {
   "cell_type": "markdown",
   "id": "ceb3335d",
   "metadata": {},
   "source": [
    "### Importing and cleaning data"
   ]
  },
  {
   "cell_type": "code",
   "execution_count": 3,
   "id": "ff4d8575",
   "metadata": {},
   "outputs": [],
   "source": [
    "# Import dataset\n",
    "data = 'data.csv'\n",
    "df = pd.read_csv(data)"
   ]
  },
  {
   "cell_type": "code",
   "execution_count": 4,
   "id": "2a81e5af",
   "metadata": {},
   "outputs": [
    {
     "data": {
      "text/plain": [
       "Call Failure               False\n",
       "Complains                  False\n",
       "Subscription Length        False\n",
       "Charge Amount              False\n",
       "Seconds of Use             False\n",
       "Frequency of use           False\n",
       "Frequency of SMS           False\n",
       "Distinct Called Numbers    False\n",
       "Age Group                  False\n",
       "Tariff Plan                False\n",
       "Status                     False\n",
       "Age                        False\n",
       "Customer Value             False\n",
       "Churn                      False\n",
       "dtype: bool"
      ]
     },
     "execution_count": 4,
     "metadata": {},
     "output_type": "execute_result"
    }
   ],
   "source": [
    "# Check for missing values\n",
    "df.isna().any()"
   ]
  },
  {
   "cell_type": "code",
   "execution_count": 5,
   "id": "07300eb9",
   "metadata": {},
   "outputs": [
    {
     "data": {
      "text/plain": [
       "Call Failure                 int64\n",
       "Complains                    int64\n",
       "Subscription Length          int64\n",
       "Charge Amount                int64\n",
       "Seconds of Use               int64\n",
       "Frequency of use             int64\n",
       "Frequency of SMS             int64\n",
       "Distinct Called Numbers      int64\n",
       "Age Group                    int64\n",
       "Tariff Plan                  int64\n",
       "Status                       int64\n",
       "Age                          int64\n",
       "Customer Value             float64\n",
       "Churn                        int64\n",
       "dtype: object"
      ]
     },
     "execution_count": 5,
     "metadata": {},
     "output_type": "execute_result"
    }
   ],
   "source": [
    "# Check data types\n",
    "df.dtypes"
   ]
  },
  {
   "cell_type": "code",
   "execution_count": 6,
   "id": "2ac08847",
   "metadata": {},
   "outputs": [],
   "source": [
    "# List categorical columns \n",
    "cat_col = ['Complains', 'Charge Amount', 'Age Group', 'Tariff Plan', 'Status', 'Churn']\n",
    "\n",
    "# Convert columns to categorical\n",
    "for i in cat_col:\n",
    "    df[i] = df[i].astype('category').sort_values()"
   ]
  },
  {
   "cell_type": "code",
   "execution_count": 7,
   "id": "d7ec1cb6",
   "metadata": {},
   "outputs": [
    {
     "data": {
      "text/plain": [
       "Call Failure                  int64\n",
       "Complains                  category\n",
       "Subscription Length           int64\n",
       "Charge Amount              category\n",
       "Seconds of Use                int64\n",
       "Frequency of use              int64\n",
       "Frequency of SMS              int64\n",
       "Distinct Called Numbers       int64\n",
       "Age Group                  category\n",
       "Tariff Plan                category\n",
       "Status                     category\n",
       "Age                           int64\n",
       "Customer Value              float64\n",
       "Churn                      category\n",
       "dtype: object"
      ]
     },
     "execution_count": 7,
     "metadata": {},
     "output_type": "execute_result"
    }
   ],
   "source": [
    "# Verify change\n",
    "df.dtypes"
   ]
  },
  {
   "cell_type": "markdown",
   "id": "63d4b5d1",
   "metadata": {},
   "source": [
    "### Model development"
   ]
  },
  {
   "cell_type": "code",
   "execution_count": 8,
   "id": "c85792c4",
   "metadata": {},
   "outputs": [],
   "source": [
    "# Import train_test_split from sklearn\n",
    "from sklearn.model_selection import train_test_split\n",
    "\n",
    "# Split data into training and test set\n",
    "train_set, test_set = train_test_split(df, test_size=0.25, random_state=42)"
   ]
  },
  {
   "cell_type": "code",
   "execution_count": 9,
   "id": "6b3100e4",
   "metadata": {},
   "outputs": [],
   "source": [
    "# Create df of features from training set\n",
    "df = train_set.drop('Churn', axis=1)"
   ]
  },
  {
   "cell_type": "code",
   "execution_count": 10,
   "id": "5bb95a90",
   "metadata": {},
   "outputs": [],
   "source": [
    "# Create df of labels from training set\n",
    "df_labels = train_set['Churn'].copy()"
   ]
  },
  {
   "cell_type": "code",
   "execution_count": 11,
   "id": "5dd4489d",
   "metadata": {},
   "outputs": [],
   "source": [
    "# Seperate categorical features \n",
    "cat_col = ['Complains', 'Charge Amount', 'Age Group','Tariff Plan', 'Status']\n",
    "df_cat = df[cat_col]"
   ]
  },
  {
   "cell_type": "code",
   "execution_count": 12,
   "id": "218c9b7b",
   "metadata": {},
   "outputs": [],
   "source": [
    "# Seperate numerical features\n",
    "df_num = df.drop(cat_col, axis=1)"
   ]
  },
  {
   "cell_type": "code",
   "execution_count": 13,
   "id": "78748cd2",
   "metadata": {},
   "outputs": [],
   "source": [
    "# Import OneHotEncoder, StandardScaler, Pipeline, ColumnTransformer\n",
    "from sklearn.preprocessing import OneHotEncoder\n",
    "from sklearn.preprocessing import StandardScaler\n",
    "from sklearn.pipeline import Pipeline\n",
    "from sklearn.compose import ColumnTransformer"
   ]
  },
  {
   "cell_type": "code",
   "execution_count": 14,
   "id": "a1aa27aa",
   "metadata": {},
   "outputs": [],
   "source": [
    "# Convert numerical and categorical attributes into list\n",
    "num_attribs = list(df_num)\n",
    "cat_attribs = list(df_cat)"
   ]
  },
  {
   "cell_type": "code",
   "execution_count": 15,
   "id": "9b048834",
   "metadata": {},
   "outputs": [],
   "source": [
    "# Create pipeline steps for numerical features\n",
    "num_pipeline = Pipeline([\n",
    "                ('std_scaler', StandardScaler())\n",
    "                        ])"
   ]
  },
  {
   "cell_type": "code",
   "execution_count": 16,
   "id": "48387b03",
   "metadata": {},
   "outputs": [],
   "source": [
    "# Create pipeline steps for categorical features\n",
    "cat_pipeline = Pipeline([\n",
    "                ('one_hot_encoder', OneHotEncoder())\n",
    "                        ])"
   ]
  },
  {
   "cell_type": "code",
   "execution_count": 17,
   "id": "03e51338",
   "metadata": {},
   "outputs": [],
   "source": [
    "# Create pipeline\n",
    "full_pipeline = ColumnTransformer([\n",
    "                ('num', num_pipeline, num_attribs),\n",
    "                ('cat', cat_pipeline, cat_attribs),\n",
    "                                    ])"
   ]
  },
  {
   "cell_type": "code",
   "execution_count": 18,
   "id": "0faf5e25",
   "metadata": {},
   "outputs": [],
   "source": [
    "# Fit and transform attributes \n",
    "df_prepared = full_pipeline.fit_transform(df)"
   ]
  },
  {
   "cell_type": "markdown",
   "id": "058a4ed4",
   "metadata": {},
   "source": [
    "### DecisionTreeClassifier"
   ]
  },
  {
   "cell_type": "code",
   "execution_count": 19,
   "id": "785c9034",
   "metadata": {},
   "outputs": [],
   "source": [
    "# Import DecisionTreeClassifier, classification_report, and confusion_matrix\n",
    "from sklearn.tree import DecisionTreeClassifier\n",
    "from sklearn.metrics import classification_report, confusion_matrix\n",
    "\n",
    "# Instantiate DecisionTreeClassifier object: dt\n",
    "dt = DecisionTreeClassifier()\n",
    "\n",
    "# Fit data\n",
    "dt.fit(df_prepared, df_labels)\n",
    "\n",
    "# Predict training set\n",
    "churn_predictions = dt.predict(df_prepared)"
   ]
  },
  {
   "cell_type": "code",
   "execution_count": 20,
   "id": "0476615b",
   "metadata": {},
   "outputs": [
    {
     "data": {
      "image/png": "[encoded data removed]",
      "text/plain": [
       "<Figure size 576x432 with 2 Axes>"
      ]
     },
     "metadata": {
      "needs_background": "light"
     },
     "output_type": "display_data"
    }
   ],
   "source": [
    "# Create confusion matrix\n",
    "churn_cm = confusion_matrix(df_labels, churn_predictions)\n",
    "\n",
    "# Plot confusion matrix\n",
    "plot_confusion_matrix(churn_cm, ['Did Not Churn', 'Did Churn'])"
   ]
  },
  {
   "cell_type": "code",
   "execution_count": 21,
   "id": "3c92b4f2",
   "metadata": {},
   "outputs": [
    {
     "name": "stdout",
     "output_type": "stream",
     "text": [
      "              precision    recall  f1-score   support\n",
      "\n",
      "           0       0.99      1.00      1.00       908\n",
      "           1       0.98      0.97      0.98       163\n",
      "\n",
      "    accuracy                           0.99      1071\n",
      "   macro avg       0.99      0.98      0.99      1071\n",
      "weighted avg       0.99      0.99      0.99      1071\n",
      "\n"
     ]
    }
   ],
   "source": [
    "# Compute resulting metrics\n",
    "print(classification_report(df_labels, churn_predictions))"
   ]
  },
  {
   "cell_type": "code",
   "execution_count": 22,
   "id": "328ecfae",
   "metadata": {},
   "outputs": [],
   "source": [
    "# Import GridSearchCV\n",
    "from sklearn.model_selection import GridSearchCV"
   ]
  },
  {
   "cell_type": "markdown",
   "id": "98e12c06",
   "metadata": {},
   "source": [
    "### Logistic Regression"
   ]
  },
  {
   "cell_type": "code",
   "execution_count": 23,
   "id": "0466c5e0",
   "metadata": {},
   "outputs": [
    {
     "data": {
      "image/png": "[encoded data removed]",
      "text/plain": [
       "<Figure size 576x432 with 2 Axes>"
      ]
     },
     "metadata": {
      "needs_background": "light"
     },
     "output_type": "display_data"
    },
    {
     "name": "stdout",
     "output_type": "stream",
     "text": [
      "              precision    recall  f1-score   support\n",
      "\n",
      "           0       0.91      0.98      0.94       908\n",
      "           1       0.80      0.45      0.58       163\n",
      "\n",
      "    accuracy                           0.90      1071\n",
      "   macro avg       0.85      0.72      0.76      1071\n",
      "weighted avg       0.89      0.90      0.89      1071\n",
      "\n"
     ]
    }
   ],
   "source": [
    "# Import LogisticRegression\n",
    "from sklearn.linear_model import LogisticRegression\n",
    "\n",
    "# Instantiate LogisticRegression object: logreg\n",
    "logreg = LogisticRegression()\n",
    "\n",
    "# Fit and predict\n",
    "logreg.fit(df_prepared, df_labels)\n",
    "churn_predictions = logreg.predict(df_prepared)\n",
    "\n",
    "# Create confusion matrix\n",
    "churn_cm = confusion_matrix(df_labels, churn_predictions)\n",
    "\n",
    "# Plot confusion matrix\n",
    "plot_confusion_matrix(churn_cm, ['Did Not Churn', 'Did Churn'])\n",
    "\n",
    "# Compute resulting metrics\n",
    "print(classification_report(df_labels, churn_predictions))"
   ]
  },
  {
   "cell_type": "markdown",
   "id": "158a475a",
   "metadata": {},
   "source": [
    "### SVC"
   ]
  },
  {
   "cell_type": "code",
   "execution_count": 24,
   "id": "6a4d9e33",
   "metadata": {},
   "outputs": [
    {
     "data": {
      "image/png": "[encoded data removed]",
      "text/plain": [
       "<Figure size 576x432 with 2 Axes>"
      ]
     },
     "metadata": {
      "needs_background": "light"
     },
     "output_type": "display_data"
    },
    {
     "name": "stdout",
     "output_type": "stream",
     "text": [
      "              precision    recall  f1-score   support\n",
      "\n",
      "           0       0.91      0.99      0.95       908\n",
      "           1       0.93      0.48      0.64       163\n",
      "\n",
      "    accuracy                           0.92      1071\n",
      "   macro avg       0.92      0.74      0.79      1071\n",
      "weighted avg       0.92      0.92      0.90      1071\n",
      "\n"
     ]
    }
   ],
   "source": [
    "# Import SVC\n",
    "from sklearn.svm import SVC\n",
    "\n",
    "# Instantiate SVC object: svc\n",
    "svc = SVC()\n",
    "\n",
    "# Fit and predict\n",
    "svc.fit(df_prepared, df_labels)\n",
    "churn_predictions = svc.predict(df_prepared)\n",
    "\n",
    "# Create confusion matrix\n",
    "churn_cm = confusion_matrix(df_labels, churn_predictions)\n",
    "\n",
    "# Plot confusion matrix\n",
    "plot_confusion_matrix(churn_cm, ['Did Not Churn', 'Did Churn'])\n",
    "\n",
    "# Compute resulting metrics\n",
    "print(classification_report(df_labels, churn_predictions))"
   ]
  },
  {
   "cell_type": "markdown",
   "id": "0eaf3a88",
   "metadata": {},
   "source": [
    "### KNN"
   ]
  },
  {
   "cell_type": "code",
   "execution_count": 25,
   "id": "66177a94",
   "metadata": {},
   "outputs": [
    {
     "data": {
      "image/png": "[encoded data removed]",
      "text/plain": [
       "<Figure size 576x432 with 2 Axes>"
      ]
     },
     "metadata": {
      "needs_background": "light"
     },
     "output_type": "display_data"
    },
    {
     "name": "stdout",
     "output_type": "stream",
     "text": [
      "              precision    recall  f1-score   support\n",
      "\n",
      "           0       0.96      0.98      0.97       908\n",
      "           1       0.86      0.80      0.83       163\n",
      "\n",
      "    accuracy                           0.95      1071\n",
      "   macro avg       0.91      0.89      0.90      1071\n",
      "weighted avg       0.95      0.95      0.95      1071\n",
      "\n"
     ]
    }
   ],
   "source": [
    "# Import KNeighborsClassifier \n",
    "from sklearn.neighbors import KNeighborsClassifier\n",
    "\n",
    "# Instantiate KNN object: knn\n",
    "knn = KNeighborsClassifier(n_neighbors=7)\n",
    "\n",
    "# Fit and predict\n",
    "knn.fit(df_prepared, df_labels) \n",
    "churn_predictions = knn.predict(df_prepared)\n",
    "\n",
    "# Create confusion matrix\n",
    "churn_cm = confusion_matrix(df_labels, churn_predictions)\n",
    "\n",
    "# Plot confusion matrix\n",
    "plot_confusion_matrix(churn_cm, ['Did Not Churn', 'Did Churn'])\n",
    "\n",
    "# Compute resulting metrics\n",
    "print(classification_report(df_labels, churn_predictions))"
   ]
  },
  {
   "cell_type": "markdown",
   "id": "202b7df8",
   "metadata": {},
   "source": [
    "### Random Forest"
   ]
  },
  {
   "cell_type": "code",
   "execution_count": 26,
   "id": "74939179",
   "metadata": {},
   "outputs": [
    {
     "data": {
      "image/png": "[encoded data removed]",
      "text/plain": [
       "<Figure size 576x432 with 2 Axes>"
      ]
     },
     "metadata": {
      "needs_background": "light"
     },
     "output_type": "display_data"
    },
    {
     "name": "stdout",
     "output_type": "stream",
     "text": [
      "              precision    recall  f1-score   support\n",
      "\n",
      "           0       1.00      0.99      1.00       908\n",
      "           1       0.96      0.99      0.98       163\n",
      "\n",
      "    accuracy                           0.99      1071\n",
      "   macro avg       0.98      0.99      0.99      1071\n",
      "weighted avg       0.99      0.99      0.99      1071\n",
      "\n"
     ]
    }
   ],
   "source": [
    "# Import RandomForestClassifier\n",
    "from sklearn.ensemble import RandomForestClassifier\n",
    "\n",
    "# Instantiate RandomForestClassifier object: rf\n",
    "rf = RandomForestClassifier(n_estimators=400)\n",
    "\n",
    "# Fit and predict\n",
    "rf.fit(df_prepared, df_labels)\n",
    "churn_predictions = rf.predict(df_prepared)\n",
    "\n",
    "# Create confusion matrix\n",
    "churn_cm = confusion_matrix(df_labels, churn_predictions)\n",
    "\n",
    "# Plotting confusion matrix\n",
    "plot_confusion_matrix(churn_cm, ['Did Not Churn', 'Did Churn'])\n",
    "\n",
    "# Compute resulting metrics\n",
    "print(classification_report(df_labels, churn_predictions))"
   ]
  },
  {
   "cell_type": "markdown",
   "id": "e3441d73",
   "metadata": {},
   "source": [
    "### Ensemble Learning"
   ]
  },
  {
   "cell_type": "code",
   "execution_count": 27,
   "id": "1990c679",
   "metadata": {},
   "outputs": [
    {
     "name": "stdout",
     "output_type": "stream",
     "text": [
      "roc_auc_score: 0.983\n",
      "accuracy_score: 0.993\n",
      "f1_score: 0.975\n",
      "recall_score: 0.969\n",
      "precision_score: 0.981\n"
     ]
    }
   ],
   "source": [
    "# Import VotingClassifier and metrics: roc_auc_score, accuracy_score, f1_score, recall_score, precision_score\n",
    "from sklearn.ensemble import VotingClassifier\n",
    "from sklearn.metrics import roc_auc_score, accuracy_score, f1_score, recall_score, precision_score\n",
    "\n",
    "                \n",
    "# Instantiate rf and dt objects with best parameters\n",
    "rf = RandomForestClassifier() #criterion='entropy', max_depth=14, max_features=3, n_estimators=22, random_state=42)\n",
    "dt = DecisionTreeClassifier() #criterion='gini', max_depth=6, max_features=6, min_samples_leaf=7, random_state=42)\n",
    "\n",
    "# List of classifiers\n",
    "classifiers = [\n",
    "                ('Decision Tree Classification', dt),\n",
    "                ('Random Forest Classification', rf),\n",
    "                ]\n",
    "\n",
    "# Create VotingClassifier object\n",
    "vc = VotingClassifier(estimators=classifiers)\n",
    "\n",
    "# Fit and predict\n",
    "vc.fit(df_prepared, df_labels)\n",
    "churn_predictions = vc.predict(df_prepared)\n",
    "\n",
    "# Compute metrics\n",
    "clf_metrics = [\n",
    "               ('roc_auc_score', roc_auc_score), \n",
    "               ('accuracy_score', accuracy_score), \n",
    "               ('f1_score', f1_score), \n",
    "               ('recall_score', recall_score),\n",
    "               ('precision_score', precision_score)\n",
    "              ]\n",
    "\n",
    "for name, metric in clf_metrics:\n",
    "    print(f'{name}: {round(metric(df_labels, churn_predictions), 3)}')"
   ]
  },
  {
   "cell_type": "markdown",
   "id": "58e0114c",
   "metadata": {},
   "source": [
    "### Model selection and hypertuning"
   ]
  },
  {
   "cell_type": "code",
   "execution_count": 28,
   "id": "16a3c1f3",
   "metadata": {},
   "outputs": [
    {
     "name": "stdout",
     "output_type": "stream",
     "text": [
      "The best parameters: {'criterion': 'gini', 'max_depth': 13, 'max_features': 3, 'min_samples_leaf': 2, 'n_estimators': 21}\n",
      "The score is 0.9819684155713567\n"
     ]
    }
   ],
   "source": [
    "# Set seed\n",
    "SEED = 42\n",
    "\n",
    "# Create parameter grid\n",
    "param_grid = {\n",
    "                'max_depth':np.arange(1,20),\n",
    "                'min_samples_leaf':np.arange(1,10),\n",
    "                'max_features':np.arange(1,7),\n",
    "                \"criterion\": [\"gini\", \"entropy\"],\n",
    "                'n_estimators':np.arange(1, 25)\n",
    "             }\n",
    "\n",
    "# Instantiate DecisionTreeClassifier object\n",
    "rf = RandomForestClassifier(random_state=SEED)\n",
    "\n",
    "# Perform GridSearchCV\n",
    "rf_cv = GridSearchCV(rf, param_grid, cv=10, n_jobs=-1, scoring='roc_auc')\n",
    "\n",
    "# Fit data\n",
    "rf_cv.fit(df_prepared, df_labels)\n",
    "\n",
    "# Best Parameters and CV score\n",
    "print(f'The best parameters: {rf_cv.best_params_}')\n",
    "print(f'The score is {rf_cv.best_score_}')"
   ]
  },
  {
   "cell_type": "code",
   "execution_count": 29,
   "id": "52f61e84",
   "metadata": {},
   "outputs": [
    {
     "name": "stdout",
     "output_type": "stream",
     "text": [
      "roc_auc_score: 0.987\n",
      "accuracy_score: 0.992\n",
      "f1_score: 0.973\n",
      "recall_score: 0.982\n",
      "precision_score: 0.964\n"
     ]
    }
   ],
   "source": [
    "# Best RandomForestClassifier model\n",
    "rf = RandomForestClassifier(criterion='gini', max_depth=13, max_features=3, n_estimators=21, random_state=SEED)\n",
    "\n",
    "# Fit and predict\n",
    "rf.fit(df_prepared, df_labels)\n",
    "rf_predictions = rf.predict(df_prepared)\n",
    "\n",
    "for name, metric in clf_metrics:\n",
    "    print(f'{name}: {round(metric(df_labels, rf_predictions), 3)}')"
   ]
  },
  {
   "cell_type": "markdown",
   "id": "62d54058",
   "metadata": {},
   "source": [
    "### Evaluate on test set"
   ]
  },
  {
   "cell_type": "code",
   "execution_count": 30,
   "id": "4159c53e",
   "metadata": {},
   "outputs": [
    {
     "name": "stdout",
     "output_type": "stream",
     "text": [
      "roc_auc_score: 0.99286\n",
      "accuracy_score: 0.9972\n",
      "f1_score: 0.99281\n",
      "recall_score: 0.98571\n",
      "precision_score: 1.0\n"
     ]
    }
   ],
   "source": [
    "# Choose best model: rf\n",
    "final_model = RandomForestClassifier(criterion='entropy', max_depth=14, max_features=3, n_estimators=22, random_state=42)\n",
    "\n",
    "# Get X_test and y_test\n",
    "X_test = test_set.drop('Churn', axis=1)\n",
    "y_test = test_set['Churn'].copy()\n",
    "\n",
    "# Use full_pipeline to transform X_test\n",
    "X_test_prepared = full_pipeline.transform(X_test)\n",
    "\n",
    "# Final predictions\n",
    "final_model.fit(X_test_prepared, y_test)\n",
    "final_predictions = final_model.predict(X_test_prepared)\n",
    "\n",
    "# Calculate \n",
    "for name, metric in clf_metrics:\n",
    "   print(f'{name}: {round(metric(y_test, final_predictions), 5)}')"
   ]
  },
  {
   "cell_type": "markdown",
   "id": "134af24d",
   "metadata": {},
   "source": [
    "### How other models performed\n",
    "\n",
    "#### VotingClassifier\n",
    "roc_auc_score: 0.845\\\n",
    "accuracy_score: 0.924\\\n",
    "f1_score: 0.787\\\n",
    "recall_score: 0.714\\\n",
    "precision_score: 0.877\n",
    "\n",
    "#### DecisionTreeClassifier\n",
    "roc_auc_score: 0.80226\\\n",
    "accuracy_score: 0.89916\\\n",
    "f1_score: 0.71429\\\n",
    "recall_score: 0.64286\\\n",
    "precision_score: 0.80357"
   ]
  },
  {
   "cell_type": "markdown",
   "id": "d41e1646",
   "metadata": {},
   "source": [
    "### Result\n",
    "From all the models, the RandomForestClassifier performs the best at predicting customer churn. "
   ]
  }
 ],
 "metadata": {
  "kernelspec": {
   "display_name": "Python 3 (ipykernel)",
   "language": "python",
   "name": "python3"
  },
  "language_info": {
   "codemirror_mode": {
    "name": "ipython",
    "version": 3
   },
   "file_extension": ".py",
   "mimetype": "text/x-python",
   "name": "python",
   "nbconvert_exporter": "python",
   "pygments_lexer": "ipython3",
   "version": "3.9.13"
  }
 },
 "nbformat": 4,
 "nbformat_minor": 5
}
