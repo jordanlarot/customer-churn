{
 "cells": [
  {
   "cell_type": "code",
   "execution_count": 9,
   "id": "aea1b4f6",
   "metadata": {},
   "outputs": [],
   "source": [
    "import sqlite3"
   ]
  },
  {
   "cell_type": "code",
   "execution_count": 14,
   "id": "b1c18056",
   "metadata": {},
   "outputs": [],
   "source": [
    "# Create connection\n",
    "con = sqlite3.connect('churn.db')\n",
    "\n",
    "# Create cursor to execute commands on the database\n",
    "cur = con.cursor()"
   ]
  },
  {
   "cell_type": "code",
   "execution_count": 15,
   "id": "98755f0e",
   "metadata": {},
   "outputs": [
    {
     "data": {
      "text/plain": [
       "<sqlite3.Cursor at 0x10842c6c0>"
      ]
     },
     "execution_count": 15,
     "metadata": {},
     "output_type": "execute_result"
    }
   ],
   "source": [
    "# Create table and column names\n",
    "cur.execute('''CREATE TABLE IF NOT EXISTS bs_churn\n",
    "                    (\n",
    "                    call_failure integer, \n",
    "                    complains integer, \n",
    "                    subscription_length integer,\n",
    "                    charge_amount integer,\n",
    "                    seconds_of_use integer,\n",
    "                    frequency_of_use integer,\n",
    "                    frequency_of_sms integer,\n",
    "                    distinct_called_numbers integer,\n",
    "                    age_group integer,\n",
    "                    tariff_plan integer, \n",
    "                    status integer, \n",
    "                    age integer,\n",
    "                    customer_value real,\n",
    "                    churn integer\n",
    "                    )\n",
    "            ''')"
   ]
  },
  {
   "cell_type": "code",
   "execution_count": 16,
   "id": "e94a06c5",
   "metadata": {},
   "outputs": [],
   "source": [
    "# Insert date \n",
    "cur.execute('''INSERT INTO bs_churn VALUES\n",
    "                (\n",
    "                10,\n",
    "                5,\n",
    "                12,\n",
    "                3,\n",
    "                60,\n",
    "                10,\n",
    "                10,\n",
    "                1,\n",
    "                3,\n",
    "                1,\n",
    "                1,\n",
    "                69,\n",
    "                100,\n",
    "                0\n",
    "                )         \n",
    "            ''')\n",
    "con.commit()"
   ]
  },
  {
   "cell_type": "code",
   "execution_count": null,
   "id": "fe6ea9fd",
   "metadata": {},
   "outputs": [],
   "source": []
  }
 ],
 "metadata": {
  "kernelspec": {
   "display_name": "Python 3 (ipykernel)",
   "language": "python",
   "name": "python3"
  },
  "language_info": {
   "codemirror_mode": {
    "name": "ipython",
    "version": 3
   },
   "file_extension": ".py",
   "mimetype": "text/x-python",
   "name": "python",
   "nbconvert_exporter": "python",
   "pygments_lexer": "ipython3",
   "version": "3.8.13"
  }
 },
 "nbformat": 4,
 "nbformat_minor": 5
}
